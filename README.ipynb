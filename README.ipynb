{
 "cells": [
  {
   "cell_type": "markdown",
   "metadata": {},
   "source": [
    "| [Want to Join ???](https://docs.google.com/forms/d/e/1FAIpQLSeiI8RIMYWBAaZolKJciwv3tHDE4n0PElLYxhDBo2TBdvlgZg/viewform?usp=sf_link) | [Regarding Community]()  |  [Resources]()  |  [dates and deadlines]()  | [Quiz]() |"
   ]
  },
  {
   "cell_type": "markdown",
   "metadata": {},
   "source": [
    "# SPARC (Facebook Secure and Private AI Reading Community)"
   ]
  },
  {
   "cell_type": "markdown",
   "metadata": {},
   "source": [
    "Hello welcome all to the reading community of the Facebook Secure and Private AI reading challenge.This community aims at achieving somethings :\n",
    "\n",
    "1. Bridging the gap between reasearch and study in the field of security and privacy by covering the fundamentals thoroughly.<br><br>\n",
    "\n",
    "2. Help each other in going through this challenge and benefit from it.<br><br>\n",
    "\n",
    "3. Kindle the passion for newcomers and while at it have fun.<br><br>\n",
    "\n",
    "Go through and explore we have a lot to offer nay the field has."
   ]
  }
 ],
 "metadata": {
  "kernelspec": {
   "display_name": "Python 3",
   "language": "python",
   "name": "python3"
  },
  "language_info": {
   "codemirror_mode": {
    "name": "ipython",
    "version": 3
   },
   "file_extension": ".py",
   "mimetype": "text/x-python",
   "name": "python",
   "nbconvert_exporter": "python",
   "pygments_lexer": "ipython3",
   "version": "3.7.2"
  },
  "toc": {
   "base_numbering": 1,
   "nav_menu": {},
   "number_sections": false,
   "sideBar": true,
   "skip_h1_title": false,
   "title_cell": "Table of Contents",
   "title_sidebar": "Contents",
   "toc_cell": false,
   "toc_position": {},
   "toc_section_display": true,
   "toc_window_display": false
  },
  "varInspector": {
   "cols": {
    "lenName": 16,
    "lenType": 16,
    "lenVar": 40
   },
   "kernels_config": {
    "python": {
     "delete_cmd_postfix": "",
     "delete_cmd_prefix": "del ",
     "library": "var_list.py",
     "varRefreshCmd": "print(var_dic_list())"
    },
    "r": {
     "delete_cmd_postfix": ") ",
     "delete_cmd_prefix": "rm(",
     "library": "var_list.r",
     "varRefreshCmd": "cat(var_dic_list()) "
    }
   },
   "types_to_exclude": [
    "module",
    "function",
    "builtin_function_or_method",
    "instance",
    "_Feature"
   ],
   "window_display": false
  }
 },
 "nbformat": 4,
 "nbformat_minor": 2
}
