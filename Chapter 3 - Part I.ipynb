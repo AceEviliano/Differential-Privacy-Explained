{
 "cells": [
  {
   "cell_type": "markdown",
   "metadata": {},
   "source": [
    "# Explanatory notes to excerpts from Cynthia Dwork's text on privacy"
   ]
  },
  {
   "cell_type": "markdown",
   "metadata": {},
   "source": [
    "## Chapter 3 - Part I"
   ]
  },
  {
   "cell_type": "markdown",
   "metadata": {},
   "source": [
    "Recall from chapter 2 - part I we defined the privacy mechanism as :\n",
    "\n",
    "A __privacy mechanim__ $\\mathscr{M}$ is an algorithm that takes an input as $D$, universe $\\mathscr{X}$ of data types, random bit R and __<ins>optionally</ins>__ a set of queries and produces an output string.<br><br>"
   ]
  },
  {
   "cell_type": "markdown",
   "metadata": {},
   "source": [
    "In this notes we will talk in detail regarding another privacy mechanism that we will come across often the __Laplace privacy mechanism__ "
   ]
  },
  {
   "cell_type": "markdown",
   "metadata": {},
   "source": [
    "### Laplace Privacy Mechanism"
   ]
  },
  {
   "cell_type": "markdown",
   "metadata": {},
   "source": [
    "before we proceed into this we will see an important concept that is often necessary and will be used as we go ahead this is called as the sensitivity of the (query) function.\n",
    "\n",
    "we define __$l_1$ sensitivity__ of a (generally a query) function  $f:N^{|\\mathscr{X}|} \\rightarrow R^{k}$ as :\n",
    "\n",
    "$$ \\Delta f= \\max |f(x)-f(y)|,\\ \\ \\ \\ni x,y \\in N^{\\mathscr{|X|}},\\ \\ \\ |x-y| = 1 $$"
   ]
  },
  {
   "cell_type": "markdown",
   "metadata": {},
   "source": [
    "Let us understand this, first we see that x,y are databases, these have a distance of 1, this exactly refers to the concept of parallel databases that we are taught in the lessons this should be clear\n",
    "Next we see that we are evaluating on all such parallel databases the query function and see what is the maximum change. To understand this better we are seeing how much knocking of one individual changes the output of the query this shows in some way how much an individual in the database contributes to the query.\n",
    "From this we directly understand that if an individual contributes more then a lot of that person's data is being leaked. And hence high sensitivity means high leakage of atleast one or more individual."
   ]
  },
  {
   "cell_type": "markdown",
   "metadata": {},
   "source": [
    "Now based on this we define the laplace mechanism as :\n",
    "\n",
    "we define Laplace distribution $Lap(x|b)$ to be :\n",
    "$$Lap(x|b) = \\frac{1}{2b} e^{- \\frac{|x|}{b}}$$\n",
    "here the variance of the distribution is $\\sigma^{2} = 2b^2$"
   ]
  },
  {
   "cell_type": "markdown",
   "metadata": {},
   "source": [
    "The Laplace mechanism is just adding noise $n$ to the query result $r$ where $n$ is sampled from $Lap(\\frac{\\Delta f}{\\epsilon})$ that is $b = \\frac{\\Delta f}{\\epsilon}$\n",
    "\n",
    "To state it more formally \n",
    "Given any function $f:N^{\\mathscr{|X|}} \\rightarrow R^{k}$ the Laplace mechanism is defined as :<br><br>\n",
    "$$\\mathscr{M}_L(x,f(.),\\epsilon) = f(x) + (Y_1, \\dots, Y_k)$$ <br> where $Y_i$ are independent and identically distributed random variables drawn from $Lap(\\frac{\\Delta f}{b})$"
   ]
  },
  {
   "cell_type": "markdown",
   "metadata": {},
   "source": [
    "### A proof of $(\\epsilon,0)$ - DP of Laplace Mechanism"
   ]
  },
  {
   "cell_type": "markdown",
   "metadata": {},
   "source": [
    "To proove that Laplace Mechanism preserves $(\\epsilon,0)$-DP\n",
    "\n",
    "$proof$ :\n",
    " We have from definition of DP,\n",
    "\n",
    "$$\\frac{Pr[\\mathscr{M}(x) \\in S]}{Pr[\\mathscr{M}(y) \\in S]} \\leq e^{\\epsilon}$$\n",
    "\n",
    "Consider an arbitrary point $z \\in R^k$ what is the probability that the mechanism $\\mathscr{M}$ will output this point taking in a database $y$?\n",
    "\n",
    "the probability is $$Pr[\\mathscr{M}(y) \\in S] = Pr_y[z] = \\Pi_{i=1}^{k} e^{-\\lambda},\\ \\  \\lambda = \\epsilon \\frac{|f(x)_i - z_i|}{\\Delta f}$$\n",
    "\n",
    "why this ???\n",
    "\n",
    "well we need each entry to be matching thus the underscript 'i' since the occurence at each position in the vector is independent we get product over the dimension of the vector result. And the probability itself is given by the rest of the exponential term centring the mean at $z_i$\n",
    "\n",
    "thus, for two different databases $x,y \\in N^\\mathscr{|X|}$\n",
    "\n",
    "we get, \n",
    "\n",
    "$$\\frac{Pr[\\mathscr{M}(x) \\in S]}{Pr[\\mathscr{M}(y) \\in S]} = \\frac{Pr_x[z]}{Pr_y[z]} $$<br><br> $$=\\Pi_{i=1}^{k}  \\frac{exp(-\\epsilon \\frac{|f(x)_i - z_i|}{\\Delta f})}{exp(-\\epsilon \\frac{|f(y)_i - z_i|}{\\Delta f})}$$<br><br>\n",
    "\n",
    "$$\\leq \\Pi_{i=1}^{k} exp(-\\epsilon \\frac{|f(x)_i - f(y)_i|}{\\Delta f})$$\n",
    "\n",
    "$$= e^\\epsilon$$"
   ]
  },
  {
   "cell_type": "markdown",
   "metadata": {},
   "source": [
    "### Some Examples :"
   ]
  },
  {
   "cell_type": "markdown",
   "metadata": {},
   "source": [
    "__Counting Queries :__ <br>\n",
    "To undersand how counting querires work we first need to how exactly we are counting. Take for the simplest case that we are counting the number of distinct companies in a given district from a database containing only branch name & the parent company name. What will be it's sensitivity ? we are to create parallel databases by knocking of just one row, and if there was a company that was mentioned only in that one row, that is that it has only one branch in that district then the number of companies would go down by 1 else if a company with several branches were knocked out the query would return the same\n",
    "\n",
    "Hence in this case the sensitivity remains 1 as the max change in query is only 1, Now if out privacy budget is $\\epsilon \\approx 0.1$\n",
    "So we add $Lap(10)$ to the result and publish this as the result to the analyst.\n",
    "\n",
    "What happens if we keep querying again and again ? the average of the query values will converge to the value of the actual result (try it). Then the analyst on making enough trials knows what our actual result is !!! this is not what we want. So we need to limit the number of times he can query, say we are making the number of queries he can ask as 'm', but this also increases the chance of him being sure of the result so we change our privacy budget from $\\epsilon$ to $\\epsilon/m$ thus, ensuring we retain our privacy budget."
   ]
  },
  {
   "cell_type": "markdown",
   "metadata": {},
   "source": [
    "__Histogram Queries :__<br>\n",
    "Histogram queries are quiet different in terms that they don't decrease our privacy budget. These are queries on database such that they target only individual classes. Suppose I have the databse with b-banana, a-apple & o-orange as $D = \\{b,b,a,a,b,o,a,o,b\\}$ Now we have three classes here and the count query on this is not same as the count query on the entire database i.e. asking how many fruits are there is not same as how many apples are there, here the secong query is based solely on apples and does not reveal the information of bananas or oranges thus if there are 3 queries as \n",
    "\n",
    "1. what are the number of bananas ?\n",
    "2. what are the number of apples ?\n",
    "3. what are the number of oranges ?\n",
    "\n",
    "and if our privacy budget is $\\epsilon$ we need not do the scaling as we did before and rescale the the budget for the number of queries as $\\epsilon/3$ rather retain the budget as $\\epsilon$ as each query is on one class of the dataset and reveals nothing of the other class but if the 3 queries were somehow dependent (linke I have number of o = 2xa and number of b = 3xa ) then we will have the information of each class leaked to certain extent thus, we will need to scale the privacy budget to $\\epsilon/m$\n",
    "\n",
    "__So remember the key fact here is that if queries are on independent classes we need not scale the budget but if queries are on dependent classes we will have to scale the privacy budget by that many number of queries__"
   ]
  }
 ],
 "metadata": {
  "kernelspec": {
   "display_name": "Python 3",
   "language": "python",
   "name": "python3"
  },
  "language_info": {
   "codemirror_mode": {
    "name": "ipython",
    "version": 3
   },
   "file_extension": ".py",
   "mimetype": "text/x-python",
   "name": "python",
   "nbconvert_exporter": "python",
   "pygments_lexer": "ipython3",
   "version": "3.7.2"
  },
  "toc": {
   "base_numbering": 1,
   "nav_menu": {},
   "number_sections": false,
   "sideBar": true,
   "skip_h1_title": false,
   "title_cell": "Table of Contents",
   "title_sidebar": "Contents",
   "toc_cell": false,
   "toc_position": {},
   "toc_section_display": true,
   "toc_window_display": false
  },
  "varInspector": {
   "cols": {
    "lenName": 16,
    "lenType": 16,
    "lenVar": 40
   },
   "kernels_config": {
    "python": {
     "delete_cmd_postfix": "",
     "delete_cmd_prefix": "del ",
     "library": "var_list.py",
     "varRefreshCmd": "print(var_dic_list())"
    },
    "r": {
     "delete_cmd_postfix": ") ",
     "delete_cmd_prefix": "rm(",
     "library": "var_list.r",
     "varRefreshCmd": "cat(var_dic_list()) "
    }
   },
   "types_to_exclude": [
    "module",
    "function",
    "builtin_function_or_method",
    "instance",
    "_Feature"
   ],
   "window_display": false
  }
 },
 "nbformat": 4,
 "nbformat_minor": 2
}
