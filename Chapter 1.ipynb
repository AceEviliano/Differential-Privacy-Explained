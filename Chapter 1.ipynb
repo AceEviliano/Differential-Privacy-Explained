{
 "cells": [
  {
   "cell_type": "markdown",
   "metadata": {},
   "source": [
    "# Important excerpts from Cynthia Dwork's text on privacy"
   ]
  },
  {
   "cell_type": "markdown",
   "metadata": {},
   "source": [
    "## Chapter 1 "
   ]
  },
  {
   "cell_type": "markdown",
   "metadata": {},
   "source": [
    "To begin with, just to get clear with this, Differential Privacy is a definition not an algorithm or process.It enables privacy preserving data analysis, and defines what privacy is."
   ]
  },
  {
   "cell_type": "markdown",
   "metadata": {},
   "source": [
    "### Differential Privacy (Definition)"
   ]
  },
  {
   "cell_type": "markdown",
   "metadata": {},
   "source": [
    "It is the statement of the promise made by a data holder (aka curator) to the subject participating in the study.<br><br>\n",
    "\"You will not be affected, adversely or otherwise,<br>by allowing your data to be used in any study or analysis,\n",
    "<br>no matter what other studies, data sets or information sources (in short any auxiliary information) are available\""
   ]
  },
  {
   "cell_type": "markdown",
   "metadata": {},
   "source": [
    "#### An important note on definiton :"
   ]
  },
  {
   "cell_type": "markdown",
   "metadata": {},
   "source": [
    "Here we have that \"the being affected\" clause covers only the being __affected by participation__ , not by the __conclusion of the study__ itself."
   ]
  },
  {
   "cell_type": "markdown",
   "metadata": {},
   "source": [
    "__illustration :__<br>\n",
    "If the subjects were asked about smoking and the a study concludes that smoking causes cancer thereby  increasing the premium of the insurance for a smoker from differential privacy point of view though the smoker was affected the __*privacy was not compromised*__ even if the smoker had taken part in the study. As the study's conclusion was what affected the individual and not the participation itself."
   ]
  },
  {
   "cell_type": "markdown",
   "metadata": {},
   "source": [
    "It ensures that the outcome of study will remain same irrespective of the participation of the subject. In other words any sequence of outputs is essentially equally likely to occur, independent of the presence or absence of any individual."
   ]
  },
  {
   "cell_type": "markdown",
   "metadata": {},
   "source": [
    "### Certain practical insights :"
   ]
  },
  {
   "cell_type": "markdown",
   "metadata": {},
   "source": [
    "[1. Data cannot be fully anonymized](#sec1)<br>\n",
    "[2. Queries over large sets are not protective](#sec2)<br>\n",
    "[3. Query Auditing is not possible](#sec3)<br>\n",
    "[4. Revealing ordinary facts is \"not OK\"](#sec4)<br>\n",
    "[5. Summary Statistics are not safe](#sec5)<br>\n",
    "[6. \"Just a few\" philosophy](#sec6)<br>"
   ]
  },
  {
   "cell_type": "markdown",
   "metadata": {},
   "source": [
    "<a id=\"sec1\"></a>"
   ]
  },
  {
   "cell_type": "markdown",
   "metadata": {},
   "source": [
    "#### 1. Data cannot be fully anonymized and remain useful :"
   ]
  },
  {
   "cell_type": "markdown",
   "metadata": {},
   "source": [
    "The richer the data the more interesting and useful it is. Even if the the individual's information itself is removed we can still find the individual based on the attributes and other auxiliary information sources where his personal information is disclosed, this kind of adversarial attack is called as __*linkage attack*__. DP (Diffferential Privacy) neutralizes this kind of attack."
   ]
  },
  {
   "cell_type": "markdown",
   "metadata": {},
   "source": [
    "<a id=\"sec2\"></a>"
   ]
  },
  {
   "cell_type": "markdown",
   "metadata": {},
   "source": [
    "#### 2. Queries over large sets are not protective :"
   ]
  },
  {
   "cell_type": "markdown",
   "metadata": {},
   "source": [
    "Questions about specific individuals can't be safely answered with accuracy. At the same time forcing queries to be over the entire data set also can't solve the problem. We can use queries over the entire data set to reveal individual information, this kind of adversarial attack is called as __*difference attack*__."
   ]
  },
  {
   "cell_type": "markdown",
   "metadata": {},
   "source": [
    "__illustration :__"
   ]
  },
  {
   "cell_type": "markdown",
   "metadata": {},
   "source": [
    "Suppose we have the data of a class of students who passed or failed. If we can force queries (<--remeber this) not to be over individuals, still a query sequence like \"how many passed\" and \"how many passed except individual x\" can reveal the status of whether x passed or not."
   ]
  },
  {
   "cell_type": "markdown",
   "metadata": {},
   "source": [
    "<a id=\"sec3\"></a>"
   ]
  },
  {
   "cell_type": "markdown",
   "metadata": {},
   "source": [
    "#### 3. Query Auditing is not possible :"
   ]
  },
  {
   "cell_type": "markdown",
   "metadata": {},
   "source": [
    "We may be more cautious and lookout for query sequence which performs a differencing attack but is it possible ? More often refusing to answer itself is disclosive and auditing the query sequence is computationally infeasible, remeber when we spoke about forcing queries this is what I meant by \"if we are able to\"."
   ]
  },
  {
   "cell_type": "markdown",
   "metadata": {},
   "source": [
    "<a id=\"sec4\"></a>"
   ]
  },
  {
   "cell_type": "markdown",
   "metadata": {},
   "source": [
    "#### 4. Revealing ordinary facts is \"not OK\" :"
   ]
  },
  {
   "cell_type": "markdown",
   "metadata": {},
   "source": [
    "over time even ordinary facts create a pattern about an individual."
   ]
  },
  {
   "cell_type": "markdown",
   "metadata": {},
   "source": [
    "__illustration :__<br>\n",
    "If X buys ordinary bread every day for say 20 years and suddenly X stops buying bread for several days. This may indicate that X was diagnosed with diabetes or another kind of disease that doesn't allow him to eat bread anymore, it may be true or may not be, yet for X this is major breach of information."
   ]
  },
  {
   "cell_type": "markdown",
   "metadata": {},
   "source": [
    "<a id=\"sec5\"></a>"
   ]
  },
  {
   "cell_type": "markdown",
   "metadata": {},
   "source": [
    "#### 5. Summary Statistics are not safe :"
   ]
  },
  {
   "cell_type": "markdown",
   "metadata": {},
   "source": [
    "We see that even queries over the entire databse (aggregated queiries) are not safe and can leak privacy. It is not possible to prevent this until there is some kind of inaccuracy. The attack in which an adversary tries to reconstruct the secret part of database is called as a __*reconstruction attack*__."
   ]
  },
  {
   "cell_type": "markdown",
   "metadata": {},
   "source": [
    "#### 6. Just a few"
   ]
  },
  {
   "cell_type": "markdown",
   "metadata": {},
   "source": [
    "In certain cases particular technique may provide privacy to most members of the data set. For a single data set \"just a few\" phiosophy can be achieved by randomly selecting a subset of rows and release these entirely. DP offers an alternative to the \"just a few\" philosophy."
   ]
  }
 ],
 "metadata": {
  "kernelspec": {
   "display_name": "Python 3",
   "language": "python",
   "name": "python3"
  },
  "language_info": {
   "codemirror_mode": {
    "name": "ipython",
    "version": 3
   },
   "file_extension": ".py",
   "mimetype": "text/x-python",
   "name": "python",
   "nbconvert_exporter": "python",
   "pygments_lexer": "ipython3",
   "version": "3.7.2"
  },
  "toc": {
   "base_numbering": 1,
   "nav_menu": {},
   "number_sections": false,
   "sideBar": true,
   "skip_h1_title": false,
   "title_cell": "Table of Contents",
   "title_sidebar": "Contents",
   "toc_cell": false,
   "toc_position": {
    "height": "calc(100% - 180px)",
    "left": "10px",
    "top": "150px",
    "width": "218.188px"
   },
   "toc_section_display": true,
   "toc_window_display": true
  },
  "varInspector": {
   "cols": {
    "lenName": 16,
    "lenType": 16,
    "lenVar": 40
   },
   "kernels_config": {
    "python": {
     "delete_cmd_postfix": "",
     "delete_cmd_prefix": "del ",
     "library": "var_list.py",
     "varRefreshCmd": "print(var_dic_list())"
    },
    "r": {
     "delete_cmd_postfix": ") ",
     "delete_cmd_prefix": "rm(",
     "library": "var_list.r",
     "varRefreshCmd": "cat(var_dic_list()) "
    }
   },
   "types_to_exclude": [
    "module",
    "function",
    "builtin_function_or_method",
    "instance",
    "_Feature"
   ],
   "window_display": false
  }
 },
 "nbformat": 4,
 "nbformat_minor": 2
}
