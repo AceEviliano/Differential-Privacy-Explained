{
 "cells": [
  {
   "cell_type": "markdown",
   "metadata": {},
   "source": [
    "# A Brief Summary on Neural Networks"
   ]
  },
  {
   "cell_type": "markdown",
   "metadata": {},
   "source": [
    "### A good read into these blogs"
   ]
  },
  {
   "cell_type": "markdown",
   "metadata": {},
   "source": [
    "<a href=\"https://medium.com/apache-mxnet/convolutions-explained-with-ms-excel-465d6649831c\">1. Convolutions explained - part 1 (this has good explanation)</a><br>\n",
    "<a href=\"https://towardsdatascience.com/intuitively-understanding-convolutions-for-deep-learning-1f6f42faee1\">2. Convolutions explained - part 2 (this covers numeric ex. and somethings that the former missed) </a><br>\n",
    "<a href=\"https://isaacchanghau.github.io/post/loss_functions/\">3. Loss Functions </a><br>\n",
    "<a href=\"https://towardsdatascience.com/demystifying-entropy-f2c3221e2550\">4. Understanding entropy </a><br>\n",
    "<a href=\"https://towardsdatascience.com/demystifying-cross-entropy-e80e3ad54a8\">5. Understanding Cross-entropy </a><br>\n",
    "<a href=\"https://towardsdatascience.com/demystifying-kl-divergence-7ebe4317ee68\">6. Understanding KL-Divergence </a><br>\n",
    "<a href=\"https://www.analyticsvidhya.com/blog/2018/04/fundamentals-deep-learning-regularization-techniques/\">7. A Brief look at regularizations </a><br>\n",
    "<a href=\"https://towardsdatascience.com/types-of-optimization-algorithms-used-in-neural-networks-and-ways-to-optimize-gradient-95ae5d39529f\">8. Optimization Algorithms </a><br>\n",
    "<a href=\"https://towardsdatascience.com/weight-initialization-techniques-in-neural-networks-26c649eb3b78\">9. Weight Initialization - Part 1 </a><br>\n",
    "<a href=\"https://towardsdatascience.com/weight-initialization-in-neural-networks-a-journey-from-the-basics-to-kaiming-954fb9b47c79\">10. Weight Initialization - Part 2 </a><br>"
   ]
  }
 ],
 "metadata": {
  "kernelspec": {
   "display_name": "Python 3",
   "language": "python",
   "name": "python3"
  },
  "language_info": {
   "codemirror_mode": {
    "name": "ipython",
    "version": 3
   },
   "file_extension": ".py",
   "mimetype": "text/x-python",
   "name": "python",
   "nbconvert_exporter": "python",
   "pygments_lexer": "ipython3",
   "version": "3.7.2"
  },
  "toc": {
   "base_numbering": 1,
   "nav_menu": {},
   "number_sections": false,
   "sideBar": true,
   "skip_h1_title": false,
   "title_cell": "Table of Contents",
   "title_sidebar": "Contents",
   "toc_cell": false,
   "toc_position": {},
   "toc_section_display": true,
   "toc_window_display": false
  },
  "varInspector": {
   "cols": {
    "lenName": 16,
    "lenType": 16,
    "lenVar": 40
   },
   "kernels_config": {
    "python": {
     "delete_cmd_postfix": "",
     "delete_cmd_prefix": "del ",
     "library": "var_list.py",
     "varRefreshCmd": "print(var_dic_list())"
    },
    "r": {
     "delete_cmd_postfix": ") ",
     "delete_cmd_prefix": "rm(",
     "library": "var_list.r",
     "varRefreshCmd": "cat(var_dic_list()) "
    }
   },
   "types_to_exclude": [
    "module",
    "function",
    "builtin_function_or_method",
    "instance",
    "_Feature"
   ],
   "window_display": false
  }
 },
 "nbformat": 4,
 "nbformat_minor": 2
}
