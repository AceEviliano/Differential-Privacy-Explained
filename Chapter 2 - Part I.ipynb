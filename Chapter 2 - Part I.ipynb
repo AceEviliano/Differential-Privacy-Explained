{
 "cells": [
  {
   "cell_type": "markdown",
   "metadata": {},
   "source": [
    "# Explanatory notes to excerpts from Cynthia Dwork's text on privacy"
   ]
  },
  {
   "cell_type": "markdown",
   "metadata": {},
   "source": [
    "## Chapter 2 - Part I"
   ]
  },
  {
   "cell_type": "markdown",
   "metadata": {},
   "source": [
    "### Some Terminologies :"
   ]
  },
  {
   "cell_type": "markdown",
   "metadata": {},
   "source": [
    "We denote a __database__ as $D$ of $n$ rows.<br><br>\n",
    "\n",
    "We define __queries__ to be a function whose domain is $D$ i.e it takes the database as input and produces an output string(which is the aggregated statistic).<br><br>\n",
    "\n",
    "For simplifying analogies we can consider the privacy to be a game played between __three parties__ (just like in cryptography) :- The __subject__ $S$, the __curator__ $C$ and the __analyst__ $A$. In some cases, rather in many cases, the curator is same as the analyst.<br><br>\n",
    "\n",
    "So the data from all the individuals [$S_i, 0<i\\leq n$]  is collected into database $D$ by curator $C$ and kept. \n",
    "The analyst $A$ performs queries $Q$ on the database for getting some kind of aggregated statistics.<br><br>\n",
    "\n",
    "Now there are several ways $C$ can help $A$ perform queries over $D$, the simplest way would be give the data to him, but this, if $A$ is a third party, violates the privacy of individual as their data is let known to $A$.<br>To avoid this we have two mechanisms :\n",
    "1. The __Non-Interactive/Offline__ mode : In this the curator poses a synthetic or sanitized dataset or only a collection of summary statistics for analyst.\n",
    "2. The __Interactive/Online__ mode : In this the curator permits the analyst to ask queries adaptively, this way the curator can audit the queries.<br><br>\n",
    "\n",
    "A __privacy mechanim__ $\\mathscr{M}$ is an algorithm that takes an input as $D$, universe $\\mathscr{X}$ of data types, random bit R and __<ins>optionally</ins>__ a set of queries and produces an output string.<br><br>\n"
   ]
  },
  {
   "cell_type": "markdown",
   "metadata": {},
   "source": [
    "### Introduction to Privacy Mechanism - The Randomized Response:"
   ]
  },
  {
   "cell_type": "markdown",
   "metadata": {},
   "source": [
    "Randomized responsse is one of the earliest privacy mechanisms that was invented by sociologists to conduct survey and study taboo human behaviour (public crimes, sex lives, etc.) This helped the subjects to reveal the secrets while having a __plausible deniability__ of having done that crime."
   ]
  },
  {
   "cell_type": "markdown",
   "metadata": {},
   "source": [
    "So here is the first randomized machanism procedure :<br><br>\n",
    "When the curator asks the subject for a response to question with binary answers (ex: yes/no or true/flase) the subject performs the below experiment and answers.<br>\n",
    "__Algorithm :__\n",
    "1. flip a coin if heads answer truthfully\n",
    "2. if tails flip another coin\n",
    "3. on the second flip if heads answer \"no\" if tails answer \"yes\"\n",
    "\n",
    "Note : the curator doesn't know what was the result of either of the coin toss he only hears the response."
   ]
  },
  {
   "cell_type": "markdown",
   "metadata": {},
   "source": [
    "Before we go on to do a complete analysis of this Randomized Response Technique (breifly RRT) we make a breif comment :<br>\n",
    "1. We see that this mechanism takes in dataset $D$ \n",
    "2. and random bit strings in the form of coin tosses example if heads is 1 and tails 0 we can have {\"01\",\"00\",\"1\"} to be the possible bit strings taken in (if heads no need to flip coin again that's why there is no \"10\" or \"11\" but just \"1\").\n",
    "3. Also notice that this does not take in any query (remember we had underlined optionally) this may not be the case in all scenarios, sometimes some mechanism take in a query as well and then perform the required randomization.\n",
    "4. Another important thing is this is not suitable for surveys having polychotomous response (more than just two response)."
   ]
  },
  {
   "cell_type": "markdown",
   "metadata": {},
   "source": [
    "### Some mathematics on this Algorithm"
   ]
  },
  {
   "cell_type": "markdown",
   "metadata": {},
   "source": [
    "#### Part I"
   ]
  },
  {
   "cell_type": "markdown",
   "metadata": {},
   "source": [
    "first let us calculate the probability of getting a truthful response (tr):\n",
    "\n",
    "$$P[tr] = P[heads] + P[secondtails|truth=yes] + P[secondheads|truth=no]$$"
   ]
  },
  {
   "cell_type": "markdown",
   "metadata": {},
   "source": [
    "<img src=\"./pics/notes1.png\">"
   ]
  },
  {
   "cell_type": "markdown",
   "metadata": {},
   "source": [
    "thus, $$P[heads]=1/2$$ $$P[secondatails|truth=yes]=1/4$$ $$P[secondheads|truth=no]=1/4$$\n",
    "we obtain $P[tr]=3/4$"
   ]
  },
  {
   "cell_type": "markdown",
   "metadata": {},
   "source": [
    "#### Part II"
   ]
  },
  {
   "cell_type": "markdown",
   "metadata": {},
   "source": [
    "Next let us calculate the probability of someone saying yes (y):\n",
    "\n",
    "$$P[y]=P[T,T]+P[H|truth=yes]$$"
   ]
  },
  {
   "cell_type": "markdown",
   "metadata": {},
   "source": [
    "now similar to above we obtain : $$P[T,T]=1/4$$ $$P[H|truth=yes]=p/2$$ where $p$ is the proprtion of people who will say yes<br>\n",
    "Thus we obtain : $$P[y]=1/4+p/2$$"
   ]
  },
  {
   "cell_type": "markdown",
   "metadata": {},
   "source": [
    "We notice here the minimum probability here is 1/4 this is because of the noise introduced by RRT. Now anyone who says \"yes\" has a plausible deniability of 25%, that is he just said yes because the tails fell twice (even though the truth itself may have been told)."
   ]
  },
  {
   "cell_type": "markdown",
   "metadata": {},
   "source": [
    "#### Part III"
   ]
  },
  {
   "cell_type": "markdown",
   "metadata": {},
   "source": [
    "One advantage of this is that we can still deskew the result to obtain what might have been the actual population statistic. This can be done as follows suppose we have skewed_result to be (sr) and true result to be (tr), then <br>\n",
    "\n",
    "$$(sr) = (tr)*(0.5) + (noise)*0.5$$\n",
    "\n",
    "in general we can provide weightage to how much noise needs to be added (the weight is in general between 0 and 1), here we have provided equal weightage to both data and noise.\n",
    "\n",
    "$$(sr) = (tr)*(weight) + (noise)*(1-weight)$$<br>\n",
    "$$(tr) = \\frac{(sr)-(noise)*(1-weight)}{weight} $$"
   ]
  },
  {
   "cell_type": "markdown",
   "metadata": {},
   "source": [
    "here noise is the probability of obtaining a second heads (\"no\") when we are asking for how may answered \"no\"\n",
    "and second tails (\"yes\") when we are aking for how many answered \"yes\"."
   ]
  },
  {
   "cell_type": "markdown",
   "metadata": {},
   "source": [
    "#### Part IV:"
   ]
  },
  {
   "cell_type": "markdown",
   "metadata": {},
   "source": [
    "Now Let's see a practical example. Assume you want to do a survey on sensitive issue like what percentage of people have stolen from supermarket. So naturally people will not answer you directly, so as you know the concept of RRT and plausible deniability you may use it here.\n",
    "\n",
    "Let's assume 40% of people have stolen things in supermarket. So if we introduce RRT here then we will get:\n",
    "\n",
    "1. In 50% case people have to tell truth, from first coin toss so we get = 50% out of 40% = 40*0.5 = 20%\n",
    "2. In the other 50% case people are going to answer randomly so we will get = 50% out of 50 = 50*0.5 = 25%\n",
    "\n",
    "so the skewed probability we will get is = 25+20 = 45%\n",
    "\n",
    "Now, by deskewing this result we get = 45*2-50 = 40% which is the  actual probability!!!"
   ]
  },
  {
   "cell_type": "markdown",
   "metadata": {},
   "source": [
    "This is the end of this notes, We spent a lot of time here because this comes over and again while you all are trying to implement and it was observed in slack that this question was often repeated. With this we you can move ahead now for implementation (if not done) for local DP. In the next notes we will cover the formalized definition of privacy."
   ]
  }
 ],
 "metadata": {
  "kernelspec": {
   "display_name": "Python 3",
   "language": "python",
   "name": "python3"
  },
  "language_info": {
   "codemirror_mode": {
    "name": "ipython",
    "version": 3
   },
   "file_extension": ".py",
   "mimetype": "text/x-python",
   "name": "python",
   "nbconvert_exporter": "python",
   "pygments_lexer": "ipython3",
   "version": "3.7.2"
  },
  "toc": {
   "base_numbering": 1,
   "nav_menu": {},
   "number_sections": false,
   "sideBar": true,
   "skip_h1_title": false,
   "title_cell": "Table of Contents",
   "title_sidebar": "Contents",
   "toc_cell": false,
   "toc_position": {},
   "toc_section_display": true,
   "toc_window_display": false
  },
  "varInspector": {
   "cols": {
    "lenName": 16,
    "lenType": 16,
    "lenVar": 40
   },
   "kernels_config": {
    "python": {
     "delete_cmd_postfix": "",
     "delete_cmd_prefix": "del ",
     "library": "var_list.py",
     "varRefreshCmd": "print(var_dic_list())"
    },
    "r": {
     "delete_cmd_postfix": ") ",
     "delete_cmd_prefix": "rm(",
     "library": "var_list.r",
     "varRefreshCmd": "cat(var_dic_list()) "
    }
   },
   "types_to_exclude": [
    "module",
    "function",
    "builtin_function_or_method",
    "instance",
    "_Feature"
   ],
   "window_display": false
  }
 },
 "nbformat": 4,
 "nbformat_minor": 2
}
