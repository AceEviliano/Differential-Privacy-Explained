{
 "cells": [
  {
   "cell_type": "markdown",
   "metadata": {},
   "source": [
    "# Readings other than the text"
   ]
  },
  {
   "cell_type": "markdown",
   "metadata": {},
   "source": [
    "### Torch documents"
   ]
  },
  {
   "cell_type": "markdown",
   "metadata": {},
   "source": [
    "__NOTE :__<br>\n",
    "If you want to download latest torch docs (It's quiet a pain, but worth it) here are the steps to go ahead :\n",
    "\n",
    "1. Clone the github repo of pytorch the link is here : <a href=\"https://github.com/pytorch/pytorch\">Pytorch offical github repository</a><br>and extract it anywhere convienient.<br>\n",
    "2. Open the conda environment where you have torch installed.<br>\n",
    "3. Install sphinx (a tool for creating documentation) with the command : ```conda install -c anaconda sphinx``` for non-conda users ```pip install sphinx``` will do but this may have some dependencies issue.<br>\n",
    "4. Clone the pytorch sphinx theme repo from this link : <a href=\"https://github.com/pytorch/pytorch_sphinx_theme\">pytorch sphinx theme github repository</a><br>\n",
    "5. Go into the pytorch sphinx theme repo directory and run the command : ```python setup.py install```<br>\n",
    "6. Now go into the ```pytorch-master/docs/``` and run the command : ```make html```<br>\n",
    "7. If any issues regarding sphinxcontrib-katex :<br>a. Clone the repo from this link : <a href=\"https://github.com/hagenw/sphinxcontrib-katex\">sphinxcontrib-katex github repository</a><br>b. go into the directory of sphinxcontrib-katex and run : ```python setup.py install```<br>c. Retry the build.<br>\n",
    "8. The html format of docs will be in path `pytorch-master/docs/build/html/`.<br>"
   ]
  },
  {
   "cell_type": "markdown",
   "metadata": {},
   "source": [
    "### Introductory Casual Reading"
   ]
  },
  {
   "cell_type": "markdown",
   "metadata": {},
   "source": [
    "<a href=\"https://medium.com/s/story/spotifys-discover-weekly-how-machine-learning-finds-your-new-music-19a41ab76efe\">1. How AI is made a product (case study : spotify)</a><br>\n",
    "<a href=\"https://blogs.nvidia.com/blog/2018/06/01/how-netflix-uses-ai/\">2. How AI is made a product (case study : netflix)</a><br>\n",
    "<a href=\"https://www.albany.edu/wisp/papers/WISP2018_paper_11.pdf\">3. The need for privacy preserving tech</a><br>\n",
    "<a href=\"https://medium.com/georgian-impact-blog/a-brief-introduction-to-differential-privacy-eacf8722283b\">4. A brief introduction to differential privacy (This was cited often in the slack)</a><br>\n",
    "<a href=\"https://medium.com/@programmersjournal/what-is-differential-privacy-38cb90aa0824\">5. What is differential privacy</a><br>\n"
   ]
  }
 ],
 "metadata": {
  "kernelspec": {
   "display_name": "Python 3",
   "language": "python",
   "name": "python3"
  },
  "language_info": {
   "codemirror_mode": {
    "name": "ipython",
    "version": 3
   },
   "file_extension": ".py",
   "mimetype": "text/x-python",
   "name": "python",
   "nbconvert_exporter": "python",
   "pygments_lexer": "ipython3",
   "version": "3.7.2"
  },
  "toc": {
   "base_numbering": 1,
   "nav_menu": {},
   "number_sections": false,
   "sideBar": true,
   "skip_h1_title": false,
   "title_cell": "Table of Contents",
   "title_sidebar": "Contents",
   "toc_cell": false,
   "toc_position": {},
   "toc_section_display": true,
   "toc_window_display": false
  },
  "varInspector": {
   "cols": {
    "lenName": 16,
    "lenType": 16,
    "lenVar": 40
   },
   "kernels_config": {
    "python": {
     "delete_cmd_postfix": "",
     "delete_cmd_prefix": "del ",
     "library": "var_list.py",
     "varRefreshCmd": "print(var_dic_list())"
    },
    "r": {
     "delete_cmd_postfix": ") ",
     "delete_cmd_prefix": "rm(",
     "library": "var_list.r",
     "varRefreshCmd": "cat(var_dic_list()) "
    }
   },
   "types_to_exclude": [
    "module",
    "function",
    "builtin_function_or_method",
    "instance",
    "_Feature"
   ],
   "window_display": false
  }
 },
 "nbformat": 4,
 "nbformat_minor": 2
}
